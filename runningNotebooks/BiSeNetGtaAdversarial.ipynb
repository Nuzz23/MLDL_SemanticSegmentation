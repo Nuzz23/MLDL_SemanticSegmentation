{
  "cells": [
    {
      "cell_type": "markdown",
      "metadata": {
        "id": "f6oPkLDguraD"
      },
      "source": [
        "## **Configuring the account**"
      ]
    },
    {
      "cell_type": "code",
      "execution_count": null,
      "metadata": {
        "id": "J_Ftxi1nuU4I"
      },
      "outputs": [],
      "source": [
        "import subprocess, os\n",
        "# identifying into github\n",
        "!git config --global user.name \"Nuzz23\"\n",
        "!git config --global user.email \"nunzio.licalzi9@gmail.com\"\n",
        "output = subprocess.check_output(\"git config --global --list\", shell=True).decode('utf-8').split()\n",
        "\n",
        "# check if correctly identified\n",
        "assert len(output) >= 2, \"Wrong lenght\"\n",
        "assert output[0].split('=')[-1] == 'Nuzz23', 'wrong user name'\n",
        "assert output[1].split('=')[-1] == 'nunzio.licalzi9@gmail.com', 'wrong email'\n",
        "del output"
      ]
    },
    {
      "cell_type": "code",
      "execution_count": 4,
      "metadata": {
        "id": "ojlp6pkcrHAk"
      },
      "outputs": [],
      "source": [
        "with open(\"TOKENS.txt\", 'r', encoding='utf-8') as f:\n",
        "  for line in f:\n",
        "    os.environ[line.split('=')[0].strip()] = line.strip().split('=')[1].strip()"
      ]
    },
    {
      "cell_type": "markdown",
      "metadata": {
        "id": "fHfxtL71uuZH"
      },
      "source": [
        "## **Cloning the repository**"
      ]
    },
    {
      "cell_type": "code",
      "execution_count": 5,
      "metadata": {
        "colab": {
          "base_uri": "https://localhost:8080/"
        },
        "id": "Ad2J_LONu14E",
        "outputId": "5b0e3516-3d37-4381-eff3-1da2cfc80a88"
      },
      "outputs": [
        {
          "name": "stdout",
          "output_type": "stream",
          "text": [
            "/content\n"
          ]
        }
      ],
      "source": [
        "# if the cloned repository already exists delete it\n",
        "%cd /content\n",
        "%rm -rf sample_data\n",
        "if \"MLDL_SemanticSegmentation\" in subprocess.check_output(\"ls\", shell=True).decode(\"utf-8\").strip():\n",
        "  !rm -rf MLDL_SemanticSegmentation"
      ]
    },
    {
      "cell_type": "code",
      "execution_count": 6,
      "metadata": {
        "id": "2TxCUei2u4pQ"
      },
      "outputs": [],
      "source": [
        "# clone the repository via token\n",
        "!git clone --quiet \"{os.getenv(\"GITHUB_TOKEN\")}\"\n",
        "\n",
        "# check if cloned correctly\n",
        "assert \"MLDL_SemanticSegmentation\" in subprocess.check_output(\"ls\", shell=True).decode(\"utf-8\").strip(), \"Not cloned correctly\""
      ]
    },
    {
      "cell_type": "markdown",
      "metadata": {
        "id": "R12eYw0V4pC5"
      },
      "source": [
        "# **LIBRARIES**"
      ]
    },
    {
      "cell_type": "code",
      "execution_count": null,
      "metadata": {
        "colab": {
          "base_uri": "https://localhost:8080/"
        },
        "id": "g3Vf88t_u64X",
        "outputId": "7ee7ad45-7a58-49c5-dbb3-f4e54cd21cb4"
      },
      "outputs": [],
      "source": [
        "# installing the required libraries\n",
        "%cd /content/MLDL_SemanticSegmentation\n",
        "!pip install -q -r requirements.txt"
      ]
    },
    {
      "cell_type": "markdown",
      "metadata": {
        "id": "4VmaXJXN4tP2"
      },
      "source": [
        "## **CUSTOM IMPORTS**"
      ]
    },
    {
      "cell_type": "code",
      "execution_count": 9,
      "metadata": {
        "id": "sz5GC7m50JfP"
      },
      "outputs": [],
      "source": [
        "from stats import countFLOPS, latency, evaluateLastEpoch\n",
        "from train.trainAdversarial import init_model\n",
        "from datasets.downloader import Downloader"
      ]
    },
    {
      "cell_type": "markdown",
      "metadata": {
        "id": "CAPefbMJvPAC"
      },
      "source": [
        "# **DATASET**"
      ]
    },
    {
      "cell_type": "markdown",
      "metadata": {
        "id": "wZsL5E6kvWzR"
      },
      "source": [
        "## **Downloading the dataset**"
      ]
    },
    {
      "cell_type": "code",
      "execution_count": 10,
      "metadata": {
        "id": "FfNKyy35vVqF"
      },
      "outputs": [],
      "source": [
        "if not Downloader().downloadCityScapes():\n",
        "  raise FileNotFoundError(\"CityScapes dataset not found\")"
      ]
    },
    {
      "cell_type": "code",
      "execution_count": 11,
      "metadata": {
        "id": "JBIz9BqI01IJ"
      },
      "outputs": [],
      "source": [
        "if not Downloader().downloadGTA5():\n",
        "  raise FileNotFoundError(\"GTA5 dataset not found\")"
      ]
    },
    {
      "cell_type": "markdown",
      "metadata": {
        "id": "15_bvE6eFo7z"
      },
      "source": [
        "# **MODEL**"
      ]
    },
    {
      "cell_type": "code",
      "execution_count": 12,
      "metadata": {
        "id": "UjU8jiNt6E_y"
      },
      "outputs": [],
      "source": [
        "from datasets.dataAugmentation.horizontalFlip import HorizontalFlip\n",
        "from datasets.dataAugmentation.saltAndPepper import SaltAndPepper\n",
        "from datasets.dataAugmentation.gaussianBlur import GaussianBlur\n",
        "from datasets.dataAugmentation.colorJitter import ColorJitter"
      ]
    },
    {
      "cell_type": "code",
      "execution_count": null,
      "metadata": {
        "colab": {
          "base_uri": "https://localhost:8080/",
          "height": 1000
        },
        "id": "_2UXa8mjxtsB",
        "outputId": "58d3350a-6f17-4874-c2c0-87bdcb28a27f"
      },
      "outputs": [],
      "source": [
        "TRAIN_SIZE, VAL_SIZE = (1280, 720), (1024, 512)\n",
        "\n",
        "model, discriminator = init_model('bisenet', batchSize=4, learning_rate=5e-4, trainSize=TRAIN_SIZE, valSize=VAL_SIZE, momentum=0.9,\n",
        "                   augmentation=ColorJitter(p=0.5, brightness=0, contrast=0, saturation=0, hue=0.1),\n",
        "                   enablePrint=True, pushWeights=True, enablePrintVal=True, restartTraining=True, runId='6t5ocjb6')\n",
        "\n",
        "flops = countFLOPS(model, width=VAL_SIZE[0], height=VAL_SIZE[1])\n",
        "latencyMean, latencyStd, fpsMean, fpsStd = latency(model, width=VAL_SIZE[0], height=VAL_SIZE[1])\n",
        "\n",
        "evaluateLastEpoch(model)"
      ]
    }
  ],
  "metadata": {
    "accelerator": "GPU",
    "colab": {
      "gpuType": "T4",
      "provenance": []
    },
    "kernelspec": {
      "display_name": "Python 3",
      "name": "python3"
    },
    "language_info": {
      "name": "python"
    }
  },
  "nbformat": 4,
  "nbformat_minor": 0
}
